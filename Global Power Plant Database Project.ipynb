{
 "cells": [
  {
   "cell_type": "markdown",
   "id": "9f649a8b",
   "metadata": {},
   "source": [
    "# Global-Power-Plant-Database-Project"
   ]
  },
  {
   "cell_type": "markdown",
   "id": "c44e680b",
   "metadata": {},
   "source": [
    "### Problem Statement:"
   ]
  },
  {
   "cell_type": "markdown",
   "id": "4d309bc9",
   "metadata": {},
   "source": [
    "#### Description"
   ]
  },
  {
   "cell_type": "markdown",
   "id": "1156e348",
   "metadata": {},
   "source": [
    "The Global Power Plant Database is a comprehensive, open source database of power plants around the world. It centralizes power plant data to make it easier to navigate, compare and draw insights for one’s own analysis. The database covers approximately 35,000 power plants from 167 countries and includes thermal plants (e.g. coal, gas, oil, nuclear, biomass, waste, geothermal) and renewables (e.g. hydro, wind, solar). Each power plant is geolocated and entries contain information on plant capacity, generation, ownership, and fuel type. It will be continuously updated as data becomes available."
   ]
  },
  {
   "cell_type": "code",
   "execution_count": null,
   "id": "59ea546e",
   "metadata": {},
   "outputs": [],
   "source": [
    "# Importing Required Libraries\n",
    "import warnings\n",
    "warnings.simplefilter(\"ignore\")\n",
    "warnings.filterwarnings(\"ignore\")\n",
    "import joblib\n",
    "\n",
    "import pandas as pd\n",
    "import numpy as np\n",
    "import seaborn as sns\n",
    "import matplotlib.pyplot as plt\n",
    "\n",
    "from scipy.stats import zscore\n",
    "from sklearn.preprocessing import LabelEncoder\n",
    "from sklearn.preprocessing import OrdinalEncoder\n",
    "from sklearn.preprocessing import StandardScaler\n"
   ]
  },
  {
   "cell_type": "code",
   "execution_count": null,
   "id": "e6b4d9d0",
   "metadata": {},
   "outputs": [],
   "source": [
    "df = pd.read_csv(\"https://raw.githubusercontent.com/wri/global-power-plant-database/master/source_databases_csv/database_IND.csv\")"
   ]
  },
  {
   "cell_type": "markdown",
   "id": "4957ab25",
   "metadata": {},
   "source": [
    "We have copied the raw file from the githib link and created a csv file in our system and imported the dataframe using pandas."
   ]
  },
  {
   "cell_type": "code",
   "execution_count": null,
   "id": "3e795ae7",
   "metadata": {},
   "outputs": [],
   "source": [
    "df"
   ]
  },
  {
   "cell_type": "code",
   "execution_count": null,
   "id": "2a260157",
   "metadata": {},
   "outputs": [],
   "source": [
    "df.columns"
   ]
  },
  {
   "cell_type": "markdown",
   "id": "0ee5bd39",
   "metadata": {},
   "source": [
    "<b>The dataset has 907 rows and 27 columns\n",
    "\n",
    "We need to predict both capacity_mw (Continuous Target Variable) and Fuel Type (Categorical Target Variable) on seperate Regression and Classification Models."
   ]
  },
  {
   "cell_type": "code",
   "execution_count": null,
   "id": "f7a446f5",
   "metadata": {},
   "outputs": [],
   "source": [
    "# Rename primary_fuel as Fuel_Type to understand the dataset in a easy format\n",
    "df.rename(columns={'primary_fuel':'Fuel_Type'},inplace=True)"
   ]
  },
  {
   "cell_type": "markdown",
   "id": "d0565382",
   "metadata": {},
   "source": [
    "# Exploratory Data Analysis"
   ]
  },
  {
   "cell_type": "code",
   "execution_count": null,
   "id": "16c376de",
   "metadata": {},
   "outputs": [],
   "source": [
    "#Find the shape of database\n",
    "df.shape"
   ]
  },
  {
   "cell_type": "markdown",
   "id": "0078542f",
   "metadata": {},
   "source": [
    "<b>We have 907 rows and 27 columns"
   ]
  },
  {
   "cell_type": "code",
   "execution_count": null,
   "id": "835d877f",
   "metadata": {},
   "outputs": [],
   "source": [
    "df.info()"
   ]
  },
  {
   "cell_type": "markdown",
   "id": "8e591648",
   "metadata": {},
   "source": [
    "<b> The database has null values and also object datatype."
   ]
  },
  {
   "cell_type": "code",
   "execution_count": null,
   "id": "273328bd",
   "metadata": {},
   "outputs": [],
   "source": [
    "#Find the data types\n",
    "df.dtypes"
   ]
  },
  {
   "cell_type": "markdown",
   "id": "01db6fd2",
   "metadata": {},
   "source": [
    "<b>The features that needs encoding are country, country_long, name, gppd_idnr,Fuel_Type,other_fuel1,other_fuel2, owner, source, url, geolocation_source,generation_data_source as they are object data type and the ML model needs numeric datatype."
   ]
  },
  {
   "cell_type": "code",
   "execution_count": null,
   "id": "3afdd792",
   "metadata": {},
   "outputs": [],
   "source": [
    "#Find the null values\n",
    "df.isnull().sum()"
   ]
  },
  {
   "cell_type": "markdown",
   "id": "35b84568",
   "metadata": {},
   "source": [
    "<b>There are multiple null values in the datasets."
   ]
  },
  {
   "cell_type": "code",
   "execution_count": null,
   "id": "3a86ed01",
   "metadata": {},
   "outputs": [],
   "source": [
    "# Find unique values\n",
    "df.nunique()"
   ]
  },
  {
   "cell_type": "markdown",
   "id": "1bb5f69d",
   "metadata": {},
   "source": [
    "<b>Here the columns country, country_long, other_fuel2, year_of_capacity_data and generation_data_source have only one unique value. Also other_fuel3, wepp_id,generation_gwh_2013, generation_gwh_2019, estimated_generation_gwh have no unique values which means they are filled with only NAN values. Since these columns have same entries thoughout the dataset so we can drop these columns."
   ]
  },
  {
   "cell_type": "markdown",
   "id": "a0dc170e",
   "metadata": {},
   "source": [
    "# Feature Selection"
   ]
  },
  {
   "cell_type": "markdown",
   "id": "4d98a9f9",
   "metadata": {},
   "source": [
    "country, country_long, other_fuel2, year_of_capacity_data and generation_data_source"
   ]
  },
  {
   "cell_type": "markdown",
   "id": "03c4cfb3",
   "metadata": {},
   "source": [
    "other_fuel3, wepp_id,generation_gwh_2013, generation_gwh_2019, estimated_generation_gwh"
   ]
  },
  {
   "cell_type": "code",
   "execution_count": null,
   "id": "8826594e",
   "metadata": {},
   "outputs": [],
   "source": [
    "# Checking the count of the country\n",
    "df[\"country\"].value_counts()"
   ]
  },
  {
   "cell_type": "markdown",
   "id": "da30c20e",
   "metadata": {},
   "source": [
    "<b>We see that only IND is listed in the country hence there is no impact of this feature on prediction"
   ]
  },
  {
   "cell_type": "code",
   "execution_count": null,
   "id": "f9124af9",
   "metadata": {},
   "outputs": [],
   "source": [
    "# Checking the count of the country_long\n",
    "df[\"country_long\"].value_counts()"
   ]
  },
  {
   "cell_type": "markdown",
   "id": "8058499e",
   "metadata": {},
   "source": [
    "<b>We see that only India is listed in the country_long hence there is no impact of this feature on prediction"
   ]
  },
  {
   "cell_type": "code",
   "execution_count": null,
   "id": "a2b3bbf4",
   "metadata": {},
   "outputs": [],
   "source": [
    "df.drop(columns=[\"country\",\"country_long\"],axis=1,inplace=True)"
   ]
  },
  {
   "cell_type": "code",
   "execution_count": null,
   "id": "78e36692",
   "metadata": {},
   "outputs": [],
   "source": [
    "# Checking the count of other_fuel2\n",
    "df[\"other_fuel2\"].value_counts()"
   ]
  },
  {
   "cell_type": "markdown",
   "id": "e749a944",
   "metadata": {},
   "source": [
    "<b>We see that only Oil is listed in the other_fuel2 and rest are all 906 null values hence there is no impact of this feature on prediction"
   ]
  },
  {
   "cell_type": "code",
   "execution_count": null,
   "id": "fd3e913d",
   "metadata": {},
   "outputs": [],
   "source": [
    "# Checking the count of year_of_capacity_data\n",
    "df[\"year_of_capacity_data\"].value_counts()"
   ]
  },
  {
   "cell_type": "markdown",
   "id": "7a9f62f2",
   "metadata": {},
   "source": [
    "<b>year_of_capacity_data has only 2019 listed value and 388 null values hence there is no impact of this feature on prediction"
   ]
  },
  {
   "cell_type": "code",
   "execution_count": null,
   "id": "266c7b3f",
   "metadata": {},
   "outputs": [],
   "source": [
    "# Checking the count of generation_data_source\n",
    "df[\"generation_data_source\"].value_counts()"
   ]
  },
  {
   "cell_type": "markdown",
   "id": "56ef484f",
   "metadata": {},
   "source": [
    "<b>generation_data_source has only Central Electricity Authority as listed value and 458 null values hence there is no impact of this feature on prediction"
   ]
  },
  {
   "cell_type": "code",
   "execution_count": null,
   "id": "02888880",
   "metadata": {},
   "outputs": [],
   "source": [
    "# Checking the count of other_fuel3\n",
    "df[\"other_fuel3\"].value_counts()"
   ]
  },
  {
   "cell_type": "markdown",
   "id": "ae5fb422",
   "metadata": {},
   "source": [
    "<b>other_fuel3 has all values as null values hence dropping this column"
   ]
  },
  {
   "cell_type": "code",
   "execution_count": null,
   "id": "14591faf",
   "metadata": {},
   "outputs": [],
   "source": [
    "# Checking the count of wepp_id\n",
    "df[\"wepp_id\"].value_counts()"
   ]
  },
  {
   "cell_type": "markdown",
   "id": "da95ffbb",
   "metadata": {},
   "source": [
    "<b>wepp_id has all values as null values hence dropping this column"
   ]
  },
  {
   "cell_type": "code",
   "execution_count": null,
   "id": "a1bef603",
   "metadata": {},
   "outputs": [],
   "source": [
    "# Checking the count of generation_gwh_2013\n",
    "df[\"generation_gwh_2013\"].value_counts()"
   ]
  },
  {
   "cell_type": "markdown",
   "id": "201269ed",
   "metadata": {},
   "source": [
    "<b>generation_gwh_2013 has all values as null values hence dropping this column"
   ]
  },
  {
   "cell_type": "code",
   "execution_count": null,
   "id": "27732571",
   "metadata": {},
   "outputs": [],
   "source": [
    "# Checking the count of generation_gwh_2019\n",
    "df[\"generation_gwh_2019\"].value_counts()"
   ]
  },
  {
   "cell_type": "markdown",
   "id": "092b49ab",
   "metadata": {},
   "source": [
    "<b>generation_gwh_2019 has all values as null values hence dropping this column"
   ]
  },
  {
   "cell_type": "code",
   "execution_count": null,
   "id": "3e5016d0",
   "metadata": {},
   "outputs": [],
   "source": [
    "# Checking the count of generation_gwh_2019\n",
    "df[\"estimated_generation_gwh\"].value_counts()"
   ]
  },
  {
   "cell_type": "markdown",
   "id": "5a70d418",
   "metadata": {},
   "source": [
    "<b>estimated_generation_gwh has all values as null values hence dropping this column"
   ]
  },
  {
   "cell_type": "code",
   "execution_count": null,
   "id": "a06a5e2c",
   "metadata": {},
   "outputs": [],
   "source": [
    "df.drop(columns=[\"other_fuel2\",\"year_of_capacity_data\",\"generation_data_source\",\"other_fuel3\",\"wepp_id\",\"generation_gwh_2013\",\"generation_gwh_2019\",\"estimated_generation_gwh\"],axis=1,inplace=True)"
   ]
  },
  {
   "cell_type": "code",
   "execution_count": null,
   "id": "9519e8fc",
   "metadata": {},
   "outputs": [],
   "source": [
    "df"
   ]
  },
  {
   "cell_type": "code",
   "execution_count": null,
   "id": "bfdd8348",
   "metadata": {},
   "outputs": [],
   "source": [
    "df.columns"
   ]
  },
  {
   "cell_type": "code",
   "execution_count": null,
   "id": "c71db296",
   "metadata": {},
   "outputs": [],
   "source": [
    "# Checking the count of name\n",
    "df[\"name\"].value_counts()"
   ]
  },
  {
   "cell_type": "code",
   "execution_count": null,
   "id": "8139e43e",
   "metadata": {},
   "outputs": [],
   "source": [
    "# Checking the count of gppd_idnr\n",
    "df[\"gppd_idnr\"].value_counts()"
   ]
  },
  {
   "cell_type": "code",
   "execution_count": null,
   "id": "bf168b35",
   "metadata": {},
   "outputs": [],
   "source": [
    "# Checking the count of owner\n",
    "df[\"owner\"].value_counts()"
   ]
  },
  {
   "cell_type": "code",
   "execution_count": null,
   "id": "841e6e4e",
   "metadata": {},
   "outputs": [],
   "source": [
    "# Checking the count of url\n",
    "df[\"url\"].value_counts()"
   ]
  },
  {
   "cell_type": "markdown",
   "id": "f209ddbb",
   "metadata": {},
   "source": [
    "<b>The columns \"name\", \"gppd_idnr\", \"owner\", \"url\" are all unique values and there is no impact of this feature on prediction hence we can drop these features"
   ]
  },
  {
   "cell_type": "code",
   "execution_count": null,
   "id": "9fb2454b",
   "metadata": {},
   "outputs": [],
   "source": [
    "df.drop(columns=[\"name\",\"gppd_idnr\",\"owner\",\"url\"],axis=1,inplace=True)"
   ]
  },
  {
   "cell_type": "code",
   "execution_count": null,
   "id": "dea32217",
   "metadata": {},
   "outputs": [],
   "source": [
    "df"
   ]
  },
  {
   "cell_type": "code",
   "execution_count": null,
   "id": "3c3a166b",
   "metadata": {},
   "outputs": [],
   "source": [
    "df.shape"
   ]
  },
  {
   "cell_type": "code",
   "execution_count": null,
   "id": "cb40c8e9",
   "metadata": {},
   "outputs": [],
   "source": [
    "# Checking null values again after feature selection\n",
    "df.isnull().sum()"
   ]
  },
  {
   "cell_type": "code",
   "execution_count": null,
   "id": "75d70e47",
   "metadata": {},
   "outputs": [],
   "source": [
    "# Let's visualize the null values clearly\n",
    "sns.heatmap(df.isnull())"
   ]
  },
  {
   "cell_type": "markdown",
   "id": "d99c97c6",
   "metadata": {},
   "source": [
    "We can clearly observe the white lines in the heat map which indicates the missing values in the dataset."
   ]
  },
  {
   "cell_type": "code",
   "execution_count": null,
   "id": "3808d21c",
   "metadata": {},
   "outputs": [],
   "source": [
    "#Checking the skewness of the dataset\n",
    "df.skew().sort_values()"
   ]
  },
  {
   "cell_type": "code",
   "execution_count": null,
   "id": "5177fa28",
   "metadata": {},
   "outputs": [],
   "source": [
    "# Checking the count of other_fuel1\n",
    "df[\"other_fuel1\"].value_counts()"
   ]
  },
  {
   "cell_type": "markdown",
   "id": "408a888a",
   "metadata": {},
   "source": [
    "## Treating null values using imputation techniques."
   ]
  },
  {
   "cell_type": "markdown",
   "id": "2ea45456",
   "metadata": {},
   "source": [
    "#### Checking the mean and mode values of the features having null values, so that we can fill the null values"
   ]
  },
  {
   "cell_type": "code",
   "execution_count": null,
   "id": "77266d3b",
   "metadata": {},
   "outputs": [],
   "source": [
    "df.columns"
   ]
  },
  {
   "cell_type": "code",
   "execution_count": null,
   "id": "36e1469c",
   "metadata": {},
   "outputs": [],
   "source": [
    "#checking the mean of latitude\n",
    "df['latitude'].mean()"
   ]
  },
  {
   "cell_type": "code",
   "execution_count": null,
   "id": "53f539e9",
   "metadata": {},
   "outputs": [],
   "source": [
    "#checking the mode of other_fuel1 \n",
    "df[\"other_fuel1\"].mode()"
   ]
  },
  {
   "cell_type": "code",
   "execution_count": null,
   "id": "ddd2dd16",
   "metadata": {},
   "outputs": [],
   "source": [
    "#checking the mode of geolocation_source columns\n",
    "df[\"geolocation_source\"].mode()"
   ]
  },
  {
   "cell_type": "markdown",
   "id": "6049989a",
   "metadata": {},
   "source": [
    "#### Filling the null values"
   ]
  },
  {
   "cell_type": "code",
   "execution_count": null,
   "id": "1a8924bd",
   "metadata": {},
   "outputs": [],
   "source": [
    "df[\"latitude\"] = df[\"latitude\"].fillna(df[\"latitude\"].mean())\n",
    "df[\"other_fuel1\"] = df[\"other_fuel1\"].fillna(df[\"other_fuel1\"].mode()[0])\n",
    "df[\"geolocation_source\"] = df[\"geolocation_source\"].fillna(df[\"geolocation_source\"].mode()[0])\n",
    "df[\"longitude\"] = df[\"longitude\"].fillna(df[\"longitude\"].median())\n",
    "df[\"commissioning_year\"] = df[\"commissioning_year\"].fillna(df[\"commissioning_year\"].median())\n",
    "df[\"generation_gwh_2014\"] = df[\"generation_gwh_2014\"].fillna(df[\"generation_gwh_2014\"].median())\n",
    "df[\"generation_gwh_2015\"] = df[\"generation_gwh_2015\"].fillna(df[\"generation_gwh_2015\"].median())\n",
    "df[\"generation_gwh_2016\"] = df[\"generation_gwh_2016\"].fillna(df[\"generation_gwh_2016\"].median())\n",
    "df[\"generation_gwh_2017\"] = df[\"generation_gwh_2017\"].fillna(df[\"generation_gwh_2017\"].median())\n",
    "df[\"generation_gwh_2018\"] = df[\"generation_gwh_2018\"].fillna(df[\"generation_gwh_2018\"].median())"
   ]
  },
  {
   "cell_type": "code",
   "execution_count": null,
   "id": "a7cce384",
   "metadata": {},
   "outputs": [],
   "source": [
    "# checking for missing values after imputation.\n",
    "df.isnull().sum()"
   ]
  },
  {
   "cell_type": "markdown",
   "id": "baf3f4bd",
   "metadata": {},
   "source": [
    "Hence we have treated the null values now and the data now shows no null values"
   ]
  },
  {
   "cell_type": "code",
   "execution_count": null,
   "id": "c3d125b0",
   "metadata": {},
   "outputs": [],
   "source": [
    "# Heatmap\n",
    "sns.heatmap(df.isnull())"
   ]
  },
  {
   "cell_type": "markdown",
   "id": "0b2d8940",
   "metadata": {},
   "source": [
    "Clearly there is no null values"
   ]
  },
  {
   "cell_type": "code",
   "execution_count": null,
   "id": "70cd8bc5",
   "metadata": {},
   "outputs": [],
   "source": [
    "#Getting the columns in the dataset\n",
    "df.columns"
   ]
  },
  {
   "cell_type": "code",
   "execution_count": null,
   "id": "0b4c3c80",
   "metadata": {},
   "outputs": [],
   "source": [
    "# Checking the list of counts of capacity_mw\n",
    "df['capacity_mw'].value_counts()"
   ]
  },
  {
   "cell_type": "code",
   "execution_count": null,
   "id": "fffb8a73",
   "metadata": {},
   "outputs": [],
   "source": [
    "# Checking the list of counts of primary_fuel\n",
    "df['Fuel_Type'].value_counts()"
   ]
  },
  {
   "cell_type": "code",
   "execution_count": null,
   "id": "c9bdf2a9",
   "metadata": {},
   "outputs": [],
   "source": [
    "# Checking the uniqueness of primary_fuel\n",
    "df[\"Fuel_Type\"].unique()"
   ]
  },
  {
   "cell_type": "markdown",
   "id": "57cea424",
   "metadata": {},
   "source": [
    "## Feature Extraction"
   ]
  },
  {
   "cell_type": "code",
   "execution_count": null,
   "id": "c983eda4",
   "metadata": {},
   "outputs": [],
   "source": [
    "# Checking the list of counts of commissioning_year\n",
    "df['commissioning_year'].value_counts()"
   ]
  },
  {
   "cell_type": "code",
   "execution_count": null,
   "id": "c5616b6e",
   "metadata": {},
   "outputs": [],
   "source": [
    "# Let's extract power plant age from commissioning year by subtracting it from the year 2018\n",
    "df[\"Power_plant_age\"] = 2018 - df[\"commissioning_year\"]\n",
    "df.drop(columns=[\"commissioning_year\"], inplace = True)"
   ]
  },
  {
   "cell_type": "markdown",
   "id": "a84f78b1",
   "metadata": {},
   "source": [
    "I have extracted Power plant age from commissioning year and dropped commissioning year columns. From Power plant age we can get to know how old are the power plants."
   ]
  },
  {
   "cell_type": "code",
   "execution_count": null,
   "id": "26e172f9",
   "metadata": {},
   "outputs": [],
   "source": [
    "df.head()"
   ]
  },
  {
   "cell_type": "markdown",
   "id": "8e841890",
   "metadata": {},
   "source": [
    "## Statistical Summary"
   ]
  },
  {
   "cell_type": "code",
   "execution_count": null,
   "id": "cfcfc68f",
   "metadata": {},
   "outputs": [],
   "source": [
    "df.describe()"
   ]
  },
  {
   "cell_type": "markdown",
   "id": "4a53d6b4",
   "metadata": {},
   "source": [
    "Here we can see the statistical analysis of the dataset (numerical only)\n",
    "\n",
    "We can observe that the count of the columns are same, which means the dataset is balanced. The minimum capacity of the power plant is zero and maximum in 4760 and there is huge difference in mean and standard deviation.From the difference between maximum and 75% percentile we can infer that there are huge outliers present in most of the columns, will remove them using appropriate methods before building our model."
   ]
  },
  {
   "cell_type": "code",
   "execution_count": null,
   "id": "0ef4958f",
   "metadata": {},
   "outputs": [],
   "source": [
    "#checking the categorical columns\n",
    "cat_col=[]\n",
    "for i in df.dtypes.index:\n",
    "    if df.dtypes[i]=='object':\n",
    "        cat_col.append(i)\n",
    "print(cat_col)"
   ]
  },
  {
   "cell_type": "code",
   "execution_count": null,
   "id": "d82c9053",
   "metadata": {},
   "outputs": [],
   "source": [
    "#checking the numeric columns for visualization\n",
    "num_col=[]\n",
    "for i in df.dtypes.index:\n",
    "    if df.dtypes[i]!='object':\n",
    "        num_col.append(i)\n",
    "print(num_col)      "
   ]
  },
  {
   "cell_type": "markdown",
   "id": "30a7b31e",
   "metadata": {},
   "source": [
    "# Data Visualization"
   ]
  },
  {
   "cell_type": "code",
   "execution_count": null,
   "id": "e3532d9a",
   "metadata": {},
   "outputs": [],
   "source": [
    "df.columns"
   ]
  },
  {
   "cell_type": "markdown",
   "id": "05eefd4d",
   "metadata": {},
   "source": [
    "## Univariate Analysis"
   ]
  },
  {
   "cell_type": "markdown",
   "id": "c260b0f1",
   "metadata": {},
   "source": [
    "### Categorical column visualization"
   ]
  },
  {
   "cell_type": "code",
   "execution_count": null,
   "id": "c424f81a",
   "metadata": {},
   "outputs": [],
   "source": [
    "print(df['Fuel_Type'].value_counts())   #visualizing the fuel types in Fuel_Type\n",
    "plt.figure(figsize=(5,5))\n",
    "sns.countplot(df['Fuel_Type'])\n",
    "plt.show()"
   ]
  },
  {
   "cell_type": "markdown",
   "id": "9c07c119",
   "metadata": {},
   "source": [
    "In the above count plot for \"primary_fuel\" column we can see that the highest number of values have been covered by coal and hydro fuel types then comes solar and wind. Finally we see that gas, biomass, oil and nuclear have very low data counts.\n",
    "\n",
    "However when we will be considering \"primary_fuel\" as our target label then this is impose a class imbalance issue while trying to create a classification model and therefore will need to be treated accordingly."
   ]
  },
  {
   "cell_type": "code",
   "execution_count": null,
   "id": "53e922d3",
   "metadata": {},
   "outputs": [],
   "source": [
    "#checking the count of fuel1\n",
    "print(df['other_fuel1'].value_counts())\n",
    "plt.figure(figsize=(5,5))\n",
    "sns.countplot(df['other_fuel1'])\n",
    "plt.show()"
   ]
  },
  {
   "cell_type": "markdown",
   "id": "567ce827",
   "metadata": {},
   "source": [
    "It can be observed that 'other_fuel1' type has 3 unique types namely: 'Oil', 'Cogeneration other fuel', 'Gas'. And it is clearly seen that oil is the max used fuel type."
   ]
  },
  {
   "cell_type": "code",
   "execution_count": null,
   "id": "1add9854",
   "metadata": {},
   "outputs": [],
   "source": [
    "# Visualizing the counts of owner\n",
    "print(df[\"geolocation_source\"].value_counts())\n",
    "labels='WRI','Industry About','National Renewable Energy Laboratory'\n",
    "plt.figure(figsize=(8,5))\n",
    "sns.countplot(df['geolocation_source'])\n",
    "plt.show()"
   ]
  },
  {
   "cell_type": "markdown",
   "id": "7a63ef15",
   "metadata": {},
   "source": [
    "Here it can be seen that the count of WRI is the max, which means that the max information is shared by this source."
   ]
  },
  {
   "cell_type": "code",
   "execution_count": null,
   "id": "04e3f11e",
   "metadata": {},
   "outputs": [],
   "source": [
    "print(df['capacity_mw'].value_counts())   #visualizing the capacity_mw\n",
    "plt.figure(figsize=(10,10))\n",
    "sns.countplot(df['capacity_mw'])\n",
    "plt.show()"
   ]
  },
  {
   "cell_type": "markdown",
   "id": "2fd8e769",
   "metadata": {},
   "source": [
    "Here it can be seen the counts withrespect to capacity_mw."
   ]
  },
  {
   "cell_type": "code",
   "execution_count": null,
   "id": "a4b8b32a",
   "metadata": {},
   "outputs": [],
   "source": [
    "plt.figure(figsize=(15,7))\n",
    "values = list(df['Power_plant_age'].unique())\n",
    "diag = sns.countplot(df[\"Power_plant_age\"], palette=\"prism\")\n",
    "diag.set_xticklabels(labels=values, rotation=90)\n",
    "plt.title(\"Year of power plant operation details\\n\")\n",
    "plt.xlabel(\"List of years weighted by unit-capacity when data is available\")\n",
    "plt.ylabel(\"Count of Rows in the Dataset\")\n",
    "plt.show()"
   ]
  },
  {
   "cell_type": "markdown",
   "id": "510d6272",
   "metadata": {},
   "source": [
    "In the above count plot we can see the list of years as to when the power plant data was made available. Since we had missing values in the \"commissioning_year\" column we replaced it with the median wherein the year \"15\" covered the most rows in our dataset compared to all the other years."
   ]
  },
  {
   "cell_type": "markdown",
   "id": "ba894ac1",
   "metadata": {},
   "source": [
    "### Checking the Distribution of the Dataset, if it is normal"
   ]
  },
  {
   "cell_type": "markdown",
   "id": "c70682f0",
   "metadata": {},
   "source": [
    "Numerical Column"
   ]
  },
  {
   "cell_type": "code",
   "execution_count": null,
   "id": "548f119f",
   "metadata": {},
   "outputs": [],
   "source": [
    "# Checking how the data has been distriubted in each column\n",
    "\n",
    "plt.figure(figsize=(10,10),facecolor='white')\n",
    "plotnumber=1\n",
    "for column in num_col:\n",
    "    if plotnumber<=9:\n",
    "        ax=plt.subplot(3,3,plotnumber)\n",
    "        sns.distplot(df[column],color=\"b\")\n",
    "        plt.xlabel(column,fontsize=20)\n",
    "    plotnumber+=1\n",
    "plt.tight_layout()"
   ]
  },
  {
   "cell_type": "markdown",
   "id": "a0bd2d5d",
   "metadata": {},
   "source": [
    "Here in the plots we can see that the data is not normally distributed. Outliers and skewness is present, which needs to be treated."
   ]
  },
  {
   "cell_type": "markdown",
   "id": "b6f730fc",
   "metadata": {},
   "source": [
    "## Bivariate Analysis"
   ]
  },
  {
   "cell_type": "markdown",
   "id": "783bfc52",
   "metadata": {},
   "source": [
    "### Correlation between features and target 'Capacity_mw'"
   ]
  },
  {
   "cell_type": "code",
   "execution_count": null,
   "id": "cfa744dc",
   "metadata": {},
   "outputs": [],
   "source": [
    "#Checking the relation between target capacity_mw and variable geolocation source\n",
    "plt.figure(figsize=[10,6])\n",
    "plt.style.use('ggplot')\n",
    "plt.title('Comparision between geolocation_source and capacity_mw')\n",
    "sns.scatterplot(df['geolocation_source'],df[\"capacity_mw\"])"
   ]
  },
  {
   "cell_type": "markdown",
   "id": "5fe9c080",
   "metadata": {},
   "source": [
    "Here also we can see that WRI 'geolocation_source' plays a major role"
   ]
  },
  {
   "cell_type": "code",
   "execution_count": null,
   "id": "523d3abc",
   "metadata": {},
   "outputs": [],
   "source": [
    "#Checking the relation between power plant age and capacity_mw\n",
    "plt.figure(figsize=[10,6])\n",
    "plt.style.use('ggplot')\n",
    "plt.title('Comparision between Power_plant_age and capacity_mw')\n",
    "sns.scatterplot(df['Power_plant_age'],df[\"capacity_mw\"])"
   ]
  },
  {
   "cell_type": "markdown",
   "id": "516a7962",
   "metadata": {},
   "source": [
    "Here we can see a negative correlation"
   ]
  },
  {
   "cell_type": "code",
   "execution_count": null,
   "id": "90b72ed9",
   "metadata": {},
   "outputs": [],
   "source": [
    "# Checking the relation between feature latitude and targer capacity_mw\n",
    "plt.figure(figsize=[10,6])\n",
    "plt.style.use('ggplot')\n",
    "plt.title('Comparision between latitude and capacity_mw')\n",
    "sns.scatterplot(df['latitude'],df[\"capacity_mw\"])"
   ]
  },
  {
   "cell_type": "markdown",
   "id": "95f170ef",
   "metadata": {},
   "source": [
    "Here this feature does not show any linear relationship"
   ]
  },
  {
   "cell_type": "code",
   "execution_count": null,
   "id": "378d3fd6",
   "metadata": {},
   "outputs": [],
   "source": [
    "# Checking the relationship between target longitude and capacity_mw\n",
    "plt.figure(figsize=[10,6])\n",
    "plt.style.use('ggplot')\n",
    "plt.title('Comparision between longitude and capacity_mw')\n",
    "sns.regplot(df['longitude'],df[\"capacity_mw\"]);"
   ]
  },
  {
   "cell_type": "markdown",
   "id": "eb668c31",
   "metadata": {},
   "source": [
    "This feature also does not show any linear relationship"
   ]
  },
  {
   "cell_type": "code",
   "execution_count": null,
   "id": "dea9a645",
   "metadata": {},
   "outputs": [],
   "source": [
    "fig,axes=plt.subplots(3,2,figsize=(15,12))\n",
    "\n",
    "#Checking the relation between feature generation_gwh_2013 and targer capacity_mw\n",
    "sns.scatterplot(x = \"generation_gwh_2014\", y = \"capacity_mw\",ax=axes[0,0],data = df,color=\"b\")\n",
    "\n",
    "#Checking the relation between feature generation_gwh_2014 and targer capacity_mw\n",
    "sns.scatterplot(x='generation_gwh_2015',y='capacity_mw',ax=axes[0,1],data=df,color=\"b\")\n",
    "\n",
    "#Checking the relation between feature generation_gwh_2015 and targer capacity_mw\n",
    "sns.scatterplot(x='generation_gwh_2016',y='capacity_mw',ax=axes[1,0],data=df,color=\"b\")\n",
    "\n",
    "#Checking the relation between feature generation_gwh_2016 and targer capacity_mw\n",
    "sns.scatterplot(x='generation_gwh_2017',y='capacity_mw',ax=axes[1,1],data=df,color=\"b\")\n",
    "\n",
    "#Checking the relation between feature generation_gwh_2017 and targer capacity_mw\n",
    "sns.scatterplot(x='generation_gwh_2018',y='capacity_mw',ax=axes[2,0],data=df,color=\"b\")\n",
    "plt.show()"
   ]
  },
  {
   "cell_type": "markdown",
   "id": "4e7a804a",
   "metadata": {},
   "source": [
    "This features shows a positive correlation. Here the electricity generation reported for the years has capacity above 1000 mw also as the generation growth increases, the capacity of plant is also increasing moderately."
   ]
  },
  {
   "cell_type": "markdown",
   "id": "10acbdff",
   "metadata": {},
   "source": [
    "### Correlation between features and target 'Fuel_Types'"
   ]
  },
  {
   "cell_type": "code",
   "execution_count": null,
   "id": "724232c8",
   "metadata": {},
   "outputs": [],
   "source": [
    "#Checking the relation between target fuel_type and variable Power_plant_age\n",
    "plt.figure(figsize=[10,6])\n",
    "plt.title('Comparision between Power_plant_age and Fuel_Type')\n",
    "sns.barplot(df['Power_plant_age'],df[\"Fuel_Type\"])"
   ]
  },
  {
   "cell_type": "markdown",
   "id": "ac640e1a",
   "metadata": {},
   "source": [
    "Here we can see that older power plants uses Hydro as energy source, followed by oil. The newer power plants are using more of Coal, Solar and Gas"
   ]
  },
  {
   "cell_type": "code",
   "execution_count": null,
   "id": "8be46c08",
   "metadata": {},
   "outputs": [],
   "source": [
    "# Checking the relation between feature latitude and targer Fuel_Type\n",
    "plt.figure(figsize=[10,6])\n",
    "plt.title('Comparision between latitude and Fuel_Type')\n",
    "sns.barplot(df['latitude'],df[\"Fuel_Type\"])"
   ]
  },
  {
   "cell_type": "markdown",
   "id": "768fb40f",
   "metadata": {},
   "source": [
    "Solar has the highest latitude"
   ]
  },
  {
   "cell_type": "code",
   "execution_count": null,
   "id": "872f144c",
   "metadata": {},
   "outputs": [],
   "source": [
    "# Checking the relationship between target longitude and Fuel_Type\n",
    "plt.figure(figsize=[10,6])\n",
    "plt.title('Comparision between longitude and Fuel_Type')\n",
    "sns.barplot(df['longitude'],df[\"Fuel_Type\"]);"
   ]
  },
  {
   "cell_type": "markdown",
   "id": "152aedfd",
   "metadata": {},
   "source": [
    "Here Gas shows the highest longitude"
   ]
  },
  {
   "cell_type": "code",
   "execution_count": null,
   "id": "508a9fac",
   "metadata": {},
   "outputs": [],
   "source": [
    "fig,axes=plt.subplots(3,2,figsize=(15,12))\n",
    "\n",
    "#Checking the relation between feature generation_gwh_2013 and targer Fuel_Type\n",
    "sns.barplot(x = \"generation_gwh_2014\", y = \"Fuel_Type\",ax=axes[0,0],data = df,color=\"b\")\n",
    "\n",
    "#Checking the relation between feature generation_gwh_2014 and targer Fuel_Type\n",
    "sns.barplot(x='generation_gwh_2015',y='Fuel_Type',ax=axes[0,1],data=df,color=\"b\")\n",
    "\n",
    "#Checking the relation between feature generation_gwh_2015 and targer Fuel_Type\n",
    "sns.barplot(x='generation_gwh_2016',y='Fuel_Type',ax=axes[1,0],data=df,color=\"b\")\n",
    "\n",
    "#Checking the relation between feature generation_gwh_2016 and targer Fuel_Type\n",
    "sns.barplot(x='generation_gwh_2017',y='Fuel_Type',ax=axes[1,1],data=df,color=\"b\")\n",
    "\n",
    "#Checking the relation between feature generation_gwh_2017 and targer Fuel_Type\n",
    "sns.barplot(x='generation_gwh_2018',y='Fuel_Type',ax=axes[2,0],data=df,color=\"b\")\n",
    "plt.show()"
   ]
  },
  {
   "cell_type": "markdown",
   "id": "a5f45926",
   "metadata": {},
   "source": [
    "Here we can see that the most used energy source in all the years is nuclear followed by coal"
   ]
  },
  {
   "cell_type": "markdown",
   "id": "1063b056",
   "metadata": {},
   "source": [
    "### Checking the relationship between both the targets"
   ]
  },
  {
   "cell_type": "code",
   "execution_count": null,
   "id": "4d445af7",
   "metadata": {},
   "outputs": [],
   "source": [
    "plt.figure(figsize = (10,6))\n",
    "plt.title(\"Comparision between Fuel Type and capacity_mw\")\n",
    "sns.barplot(x = \"Fuel_Type\", y = \"capacity_mw\", data = df)\n",
    "plt.show()"
   ]
  },
  {
   "cell_type": "markdown",
   "id": "afa7621d",
   "metadata": {},
   "source": [
    "Here also it shows that energy source Nuclear has the major contribution"
   ]
  },
  {
   "cell_type": "markdown",
   "id": "5ede9dac",
   "metadata": {},
   "source": [
    "## Label Encoding"
   ]
  },
  {
   "cell_type": "code",
   "execution_count": null,
   "id": "fe25d99f",
   "metadata": {},
   "outputs": [],
   "source": [
    "categorical_col = ['Fuel_Type', 'other_fuel1', 'source', 'geolocation_source']"
   ]
  },
  {
   "cell_type": "code",
   "execution_count": null,
   "id": "47e2eee9",
   "metadata": {},
   "outputs": [],
   "source": [
    "LE=LabelEncoder()\n",
    "df[categorical_col]= df[categorical_col].apply(LE.fit_transform)"
   ]
  },
  {
   "cell_type": "code",
   "execution_count": null,
   "id": "2fd35714",
   "metadata": {},
   "outputs": [],
   "source": [
    "df[categorical_col]"
   ]
  },
  {
   "cell_type": "markdown",
   "id": "56eea010",
   "metadata": {},
   "source": [
    "Now we have encoded the categorical columns"
   ]
  },
  {
   "cell_type": "code",
   "execution_count": null,
   "id": "398819a7",
   "metadata": {},
   "outputs": [],
   "source": [
    "df"
   ]
  },
  {
   "cell_type": "markdown",
   "id": "b56498cb",
   "metadata": {},
   "source": [
    "## Identifying the outliers"
   ]
  },
  {
   "cell_type": "code",
   "execution_count": null,
   "id": "b81432b7",
   "metadata": {},
   "outputs": [],
   "source": [
    "plt.figure(figsize=(10,10),facecolor='white')\n",
    "plotnumber=1\n",
    "for column in num_col:\n",
    "    if plotnumber<=9:\n",
    "        ax=plt.subplot(3,3,plotnumber)\n",
    "        sns.boxplot(df[column],color=\"blue\")\n",
    "        plt.xlabel(column,fontsize=12)\n",
    "    plotnumber+=1\n",
    "plt.tight_layout()"
   ]
  },
  {
   "cell_type": "markdown",
   "id": "f3bb1ab1",
   "metadata": {},
   "source": [
    "In the boxplot we can notice the outliers present in all the columns except latitude. Even target column has outliers but no need to remove it. Let's remove outliers using Zscore method."
   ]
  },
  {
   "cell_type": "code",
   "execution_count": null,
   "id": "3f649c1e",
   "metadata": {},
   "outputs": [],
   "source": [
    "df.columns"
   ]
  },
  {
   "cell_type": "code",
   "execution_count": null,
   "id": "eab9f88b",
   "metadata": {},
   "outputs": [],
   "source": [
    "# Features containing outliers\n",
    "features = df[['longitude', 'generation_gwh_2014', 'generation_gwh_2015', 'generation_gwh_2016', 'generation_gwh_2017', 'generation_gwh_2018','Power_plant_age']]"
   ]
  },
  {
   "cell_type": "code",
   "execution_count": null,
   "id": "bd277767",
   "metadata": {},
   "outputs": [],
   "source": [
    "z=np.abs(zscore(features))\n",
    "\n",
    "z"
   ]
  },
  {
   "cell_type": "code",
   "execution_count": null,
   "id": "221bed78",
   "metadata": {},
   "outputs": [],
   "source": [
    "# Creating new dataframe\n",
    "new_df = df[(z<3).all(axis=1)] \n",
    "new_df"
   ]
  },
  {
   "cell_type": "code",
   "execution_count": null,
   "id": "d02352e0",
   "metadata": {},
   "outputs": [],
   "source": [
    "df.shape"
   ]
  },
  {
   "cell_type": "code",
   "execution_count": null,
   "id": "e79bd05d",
   "metadata": {},
   "outputs": [],
   "source": [
    "new_df.shape"
   ]
  },
  {
   "cell_type": "code",
   "execution_count": null,
   "id": "931308b5",
   "metadata": {},
   "outputs": [],
   "source": [
    "print(\"total_dropped_rows\",df.shape[0] - new_df.shape[0])"
   ]
  },
  {
   "cell_type": "markdown",
   "id": "398c9b3f",
   "metadata": {},
   "source": [
    "### Percentage data loss:"
   ]
  },
  {
   "cell_type": "code",
   "execution_count": null,
   "id": "8da0c89f",
   "metadata": {},
   "outputs": [],
   "source": [
    "loss_percent=(907-851)/907*100\n",
    "print(loss_percent,'%')"
   ]
  },
  {
   "cell_type": "markdown",
   "id": "39b8475d",
   "metadata": {},
   "source": [
    "checking the data loss percentage by comparing the rows in our original data set and the new data set after removal of the outliers. usually less than 10% data loss is acceptable"
   ]
  },
  {
   "cell_type": "markdown",
   "id": "712890d7",
   "metadata": {},
   "source": [
    "#### df_new is the new data set after all the unnecessary columns and all the outliers apart from target columns (with z<3 z score) are removed"
   ]
  },
  {
   "cell_type": "markdown",
   "id": "4037c9ce",
   "metadata": {},
   "source": [
    "## Correlation between the target variable and features"
   ]
  },
  {
   "cell_type": "code",
   "execution_count": null,
   "id": "9fbd7e21",
   "metadata": {},
   "outputs": [],
   "source": [
    "cor = new_df.corr()\n",
    "cor"
   ]
  },
  {
   "cell_type": "code",
   "execution_count": null,
   "id": "327e936a",
   "metadata": {},
   "outputs": [],
   "source": [
    "plt.figure(figsize=(25,22))\n",
    "sns.heatmap(new_df.corr(),linewidths=.1,vmin=-1, vmax=1, fmt='.2g', annot = True, linecolor=\"black\",annot_kws={'size':15},cmap=\"YlGnBu\")\n",
    "plt.yticks(rotation=0)"
   ]
  },
  {
   "cell_type": "code",
   "execution_count": null,
   "id": "b0c517cc",
   "metadata": {},
   "outputs": [],
   "source": [
    "new_df.corr()['Fuel_Type'].sort_values()"
   ]
  },
  {
   "cell_type": "code",
   "execution_count": null,
   "id": "551f42b2",
   "metadata": {},
   "outputs": [],
   "source": [
    "new_df.corr()['capacity_mw'].sort_values()"
   ]
  },
  {
   "cell_type": "markdown",
   "id": "63ebd381",
   "metadata": {},
   "source": [
    "Here we can see the co-relation between all the features and the features and targets\n",
    "\n",
    "The label capacity_mw is highly positively correlated with the features generation_gwh_2017, generation_gwh_2016, generation_gwh_2015, generation_gwh_2014, generation_gwh_2013. And the label is negatively correlated with the features Fuel_Type, source and Power_plant_age. The columns other_fuel1 and latitude have no relation with the label, so we can drop them.\n",
    "\n",
    "The label Fuel_Type is less correlated with Power_plant_age and source. The label is negatively correlated with geolocation_source, longitude, capacity_mw, and all generation_gwh years.\n",
    "\n",
    "From the heat map we can notice most of the features are highly correlated with each other which leads to multicollinearity problem. So will try to solve this problem by Checking VIF value before building our models.\n",
    "\n",
    "Also the features other_fuel1 and latitude have very very less correlation with both the labels. Hence after checking VIF we can think about dropping these 2 columns."
   ]
  },
  {
   "cell_type": "markdown",
   "id": "1bf3d076",
   "metadata": {},
   "source": [
    "## Visualizing the correlation between label and features using bar plot"
   ]
  },
  {
   "cell_type": "code",
   "execution_count": null,
   "id": "ec8787a7",
   "metadata": {},
   "outputs": [],
   "source": [
    "plt.figure(figsize=(22,7))\n",
    "new_df.corr()['Fuel_Type'].sort_values(ascending=False).drop(['Fuel_Type']).plot(kind='bar',color='c')\n",
    "plt.xlabel('Feature',fontsize=10)\n",
    "plt.ylabel('target',fontsize=10)\n",
    "plt.title('correlation between label and feature using bar plot',fontsize=20)\n",
    "plt.show()"
   ]
  },
  {
   "cell_type": "markdown",
   "id": "2607f6dc",
   "metadata": {},
   "source": [
    "## MultiCollinearity with Variance Inflation Factor"
   ]
  },
  {
   "cell_type": "code",
   "execution_count": null,
   "id": "cfe44a3d",
   "metadata": {},
   "outputs": [],
   "source": [
    "df1=pd.DataFrame(data=new_df)       # copying the dataframe\n",
    "df1"
   ]
  },
  {
   "cell_type": "code",
   "execution_count": null,
   "id": "35c78f4e",
   "metadata": {},
   "outputs": [],
   "source": [
    "x1=df1.iloc[:,1:]\n",
    "y1=df1.iloc[:,0]"
   ]
  },
  {
   "cell_type": "code",
   "execution_count": null,
   "id": "68dd8045",
   "metadata": {},
   "outputs": [],
   "source": [
    "x1"
   ]
  },
  {
   "cell_type": "code",
   "execution_count": null,
   "id": "2032968a",
   "metadata": {},
   "outputs": [],
   "source": [
    "y1"
   ]
  },
  {
   "cell_type": "code",
   "execution_count": null,
   "id": "c67ce874",
   "metadata": {},
   "outputs": [],
   "source": [
    "x1.shape"
   ]
  },
  {
   "cell_type": "code",
   "execution_count": null,
   "id": "6e178706",
   "metadata": {},
   "outputs": [],
   "source": [
    "y1.shape"
   ]
  },
  {
   "cell_type": "code",
   "execution_count": null,
   "id": "6e938cea",
   "metadata": {},
   "outputs": [],
   "source": [
    "x1.shape[1]    # 12 number of columns"
   ]
  },
  {
   "cell_type": "code",
   "execution_count": null,
   "id": "4b576ed8",
   "metadata": {},
   "outputs": [],
   "source": [
    "# importing required libraries\n",
    "from scipy import stats\n",
    "import statsmodels.api as sm\n",
    "from statsmodels.stats.outliers_influence import variance_inflation_factor"
   ]
  },
  {
   "cell_type": "code",
   "execution_count": null,
   "id": "7cf9dda5",
   "metadata": {},
   "outputs": [],
   "source": [
    "def calc_vif(x1):\n",
    "    vif=pd.DataFrame()\n",
    "    vif[\"variables\"]=x1.columns\n",
    "    vif[\"VIF FACTOR\"]=[variance_inflation_factor(x1.values,i) for i in range(x1.shape[1])]\n",
    "    return(vif)"
   ]
  },
  {
   "cell_type": "code",
   "execution_count": null,
   "id": "524330fc",
   "metadata": {},
   "outputs": [],
   "source": [
    "calc_vif(x1)"
   ]
  },
  {
   "cell_type": "markdown",
   "id": "4375fdd1",
   "metadata": {},
   "source": [
    "other_fuel1 has the highest VIF FACTOR hence lets drop it first"
   ]
  },
  {
   "cell_type": "code",
   "execution_count": null,
   "id": "8f765a9e",
   "metadata": {},
   "outputs": [],
   "source": [
    "x1=df1.drop(['other_fuel1'],axis=1)"
   ]
  },
  {
   "cell_type": "code",
   "execution_count": null,
   "id": "7cfeaf56",
   "metadata": {},
   "outputs": [],
   "source": [
    "calc_vif(x1)"
   ]
  },
  {
   "cell_type": "markdown",
   "id": "8130c0c7",
   "metadata": {},
   "source": [
    "Since latitude has the lowest contribution compared to both the targets lets drop that first and see what happens"
   ]
  },
  {
   "cell_type": "code",
   "execution_count": null,
   "id": "176bc526",
   "metadata": {},
   "outputs": [],
   "source": [
    "x1=df1.drop(['other_fuel1','latitude'],axis=1)"
   ]
  },
  {
   "cell_type": "code",
   "execution_count": null,
   "id": "4d435d09",
   "metadata": {},
   "outputs": [],
   "source": [
    "calc_vif(x1)"
   ]
  },
  {
   "cell_type": "markdown",
   "id": "96229a96",
   "metadata": {},
   "source": [
    "We can see VIF has decreased drastically cause of removing of these 2 columns. Hence lets drop these 2 columns next"
   ]
  },
  {
   "cell_type": "markdown",
   "id": "328da8e9",
   "metadata": {},
   "source": [
    "## Feature selection by dropping columns"
   ]
  },
  {
   "cell_type": "code",
   "execution_count": null,
   "id": "5e08e1a5",
   "metadata": {},
   "outputs": [],
   "source": [
    "new_df.drop(\"other_fuel1\",axis=1,inplace=True)\n",
    "new_df.drop(\"latitude\",axis=1,inplace=True)"
   ]
  },
  {
   "cell_type": "code",
   "execution_count": null,
   "id": "b0d56ad6",
   "metadata": {},
   "outputs": [],
   "source": [
    "new_df.head()"
   ]
  },
  {
   "cell_type": "code",
   "execution_count": null,
   "id": "c9bcd3ee",
   "metadata": {},
   "outputs": [],
   "source": [
    "sns.pairplot(new_df)"
   ]
  },
  {
   "cell_type": "markdown",
   "id": "fc191742",
   "metadata": {},
   "source": [
    "We can see the relation between all the features and target variable using pairplot."
   ]
  },
  {
   "cell_type": "markdown",
   "id": "5cf36435",
   "metadata": {},
   "source": [
    "# Machine Learning"
   ]
  },
  {
   "cell_type": "markdown",
   "id": "51d0c0de",
   "metadata": {},
   "source": [
    "## 1.Predicting \"Capacity_mw\" Target"
   ]
  },
  {
   "cell_type": "markdown",
   "id": "9ed2b93a",
   "metadata": {},
   "source": [
    "### Splitting the dataset into Features and Target"
   ]
  },
  {
   "cell_type": "code",
   "execution_count": null,
   "id": "26871db1",
   "metadata": {},
   "outputs": [],
   "source": [
    "x=new_df.drop('capacity_mw', axis=1)\n",
    "y=new_df[\"capacity_mw\"]"
   ]
  },
  {
   "cell_type": "code",
   "execution_count": null,
   "id": "9ba908b1",
   "metadata": {},
   "outputs": [],
   "source": [
    "x.shape"
   ]
  },
  {
   "cell_type": "code",
   "execution_count": null,
   "id": "37d236bf",
   "metadata": {},
   "outputs": [],
   "source": [
    "y.shape"
   ]
  },
  {
   "cell_type": "code",
   "execution_count": null,
   "id": "71b748f6",
   "metadata": {},
   "outputs": [],
   "source": [
    "x"
   ]
  },
  {
   "cell_type": "code",
   "execution_count": null,
   "id": "ac9ef864",
   "metadata": {},
   "outputs": [],
   "source": [
    "y"
   ]
  },
  {
   "cell_type": "markdown",
   "id": "2784f8a2",
   "metadata": {},
   "source": [
    "### Checking for skewness"
   ]
  },
  {
   "cell_type": "code",
   "execution_count": null,
   "id": "c26c1e0a",
   "metadata": {},
   "outputs": [],
   "source": [
    "x.skew().sort_values()"
   ]
  },
  {
   "cell_type": "markdown",
   "id": "86cab0ce",
   "metadata": {},
   "source": [
    "The following columns have skewness more than +0.5 and -0.5.\n",
    "\n",
    "longitude generation_gwh_2013 generation_gwh_2014 generation_gwh_2015 generation_gwh_2016 generation_gwh_2017 Power_plant_age"
   ]
  },
  {
   "cell_type": "markdown",
   "id": "1bcb4f0a",
   "metadata": {},
   "source": [
    "### Removing skewness using yeo-johnson method"
   ]
  },
  {
   "cell_type": "code",
   "execution_count": null,
   "id": "91022c68",
   "metadata": {},
   "outputs": [],
   "source": [
    "from sklearn.preprocessing import PowerTransformer\n",
    "skew = ['longitude','generation_gwh_2014','generation_gwh_2015','generation_gwh_2016','generation_gwh_2017','generation_gwh_2018','Power_plant_age']\n",
    "transf = PowerTransformer(method='yeo-johnson')"
   ]
  },
  {
   "cell_type": "code",
   "execution_count": null,
   "id": "595f03a2",
   "metadata": {},
   "outputs": [],
   "source": [
    "x[skew] = transf.fit_transform(x[skew].values)\n",
    "x[skew].head()"
   ]
  },
  {
   "cell_type": "code",
   "execution_count": null,
   "id": "6d5a26ed",
   "metadata": {},
   "outputs": [],
   "source": [
    "x.skew()"
   ]
  },
  {
   "cell_type": "markdown",
   "id": "41f3cc79",
   "metadata": {},
   "source": [
    "Since Fuel_Type, source and geolocation_source were categorically encoded values we didnt use transformation for skewness removal.\n",
    "\n",
    "Rest of the numerical data columns the skewness has been removed."
   ]
  },
  {
   "cell_type": "code",
   "execution_count": null,
   "id": "4c308d2f",
   "metadata": {},
   "outputs": [],
   "source": [
    "plt.figure(figsize=(20,25), facecolor='white')\n",
    "plotnumber = 1\n",
    "\n",
    "for column in x[skew]:\n",
    "    if plotnumber<=9:\n",
    "        ax = plt.subplot(3,3,plotnumber)\n",
    "        sns.distplot(x[column],color='g',kde_kws={\"shade\": True},hist=False)\n",
    "        plt.xlabel(column,fontsize=20)\n",
    "    plotnumber+=1\n",
    "plt.show()"
   ]
  },
  {
   "cell_type": "markdown",
   "id": "4fd2aa25",
   "metadata": {},
   "source": [
    "The dataset looks normal now"
   ]
  },
  {
   "cell_type": "markdown",
   "id": "211cdacb",
   "metadata": {},
   "source": [
    "## Feature Scalling"
   ]
  },
  {
   "cell_type": "code",
   "execution_count": null,
   "id": "c8dfac21",
   "metadata": {},
   "outputs": [],
   "source": [
    "#Scalling the data using Standard Scaler\n",
    "scaler = StandardScaler()\n",
    "x = pd.DataFrame(scaler.fit_transform(x), columns=x.columns)\n",
    "x"
   ]
  },
  {
   "cell_type": "markdown",
   "id": "20ee62f5",
   "metadata": {},
   "source": [
    "The dataset x has now been scaled."
   ]
  },
  {
   "cell_type": "markdown",
   "id": "14760876",
   "metadata": {},
   "source": [
    "### MultiCollinearity with Variance Inflation Factor"
   ]
  },
  {
   "cell_type": "code",
   "execution_count": null,
   "id": "edea496e",
   "metadata": {},
   "outputs": [],
   "source": [
    "vif = pd.DataFrame()\n",
    "vif[\"VIF values\"] = [variance_inflation_factor(x.values,i)\n",
    "              for i in range(len(x.columns))]\n",
    "vif[\"Features\"] = x.columns\n",
    "\n",
    "# Let's check the values\n",
    "vif"
   ]
  },
  {
   "cell_type": "markdown",
   "id": "4cd195f8",
   "metadata": {},
   "source": [
    "VIF values in all the columns are less then 10, hence no multicolinearity problem exists."
   ]
  },
  {
   "cell_type": "markdown",
   "id": "8d08a1de",
   "metadata": {},
   "source": [
    "### Finding best random state"
   ]
  },
  {
   "cell_type": "code",
   "execution_count": null,
   "id": "727c7c4c",
   "metadata": {},
   "outputs": [],
   "source": [
    "from sklearn.ensemble import RandomForestRegressor\n",
    "from sklearn.metrics import mean_squared_error, mean_absolute_error, r2_score\n",
    "from sklearn.model_selection import train_test_split"
   ]
  },
  {
   "cell_type": "code",
   "execution_count": null,
   "id": "a59d7983",
   "metadata": {},
   "outputs": [],
   "source": [
    "#getting the best random state for .20 test size\n",
    "maxAccu=0\n",
    "maxRS=0\n",
    "for i in range(1,200): \n",
    "    x_train,x_test, y_train, y_test =train_test_split(x,y, test_size=.20,random_state=i)\n",
    "    mod=RandomForestRegressor()\n",
    "    mod.fit(x_train, y_train)\n",
    "    pred=mod.predict(x_test)\n",
    "    acc=r2_score(y_test,pred)\n",
    "    if acc>maxAccu:\n",
    "        maxAccu=acc\n",
    "        maxRS=i\n",
    "print('R2 Score=', maxAccu, 'Random_State',maxRS)"
   ]
  },
  {
   "cell_type": "code",
   "execution_count": null,
   "id": "a1893cad",
   "metadata": {},
   "outputs": [],
   "source": [
    "#getting the best random state for .30 test size\n",
    "maxAccu=0\n",
    "maxRS=0\n",
    "for i in range(1,200): \n",
    "    x_train,x_test, y_train, y_test =train_test_split(x,y, test_size=.30,random_state=i)\n",
    "    mod=RandomForestRegressor()\n",
    "    mod.fit(x_train, y_train)\n",
    "    pred=mod.predict(x_test)\n",
    "    acc=r2_score(y_test,pred)\n",
    "    if acc>maxAccu:\n",
    "        maxAccu=acc\n",
    "        maxRS=i\n",
    "print('R2 Score=', maxAccu, 'Random_State',maxRS)"
   ]
  },
  {
   "cell_type": "markdown",
   "id": "8de68baf",
   "metadata": {},
   "source": [
    "We got best r2 score of 0.878 at a random state of 125 for test_size=.20"
   ]
  },
  {
   "cell_type": "markdown",
   "id": "74e82105",
   "metadata": {},
   "source": [
    "### Train_test_Split"
   ]
  },
  {
   "cell_type": "code",
   "execution_count": null,
   "id": "fe6137b5",
   "metadata": {},
   "outputs": [],
   "source": [
    "x_train,x_test, y_train, y_test=train_test_split(x,y,test_size=.20, random_state=125)"
   ]
  },
  {
   "cell_type": "code",
   "execution_count": null,
   "id": "4db5b9b4",
   "metadata": {},
   "outputs": [],
   "source": [
    "# importing all the required libraries\n",
    "\n",
    "from sklearn.linear_model import LinearRegression,Lasso,Ridge,ElasticNet\n",
    "from sklearn.svm import SVR\n",
    "from sklearn.tree import DecisionTreeRegressor\n",
    "from sklearn.ensemble import RandomForestRegressor\n",
    "from sklearn.neighbors import KNeighborsRegressor\n",
    "from sklearn.linear_model import SGDRegressor\n",
    "from sklearn.ensemble import GradientBoostingRegressor\n",
    "from sklearn.ensemble import AdaBoostRegressor\n",
    "from sklearn.ensemble import ExtraTreesRegressor\n",
    "\n",
    "from sklearn.model_selection import cross_val_score\n",
    "from sklearn.model_selection import GridSearchCV"
   ]
  },
  {
   "cell_type": "code",
   "execution_count": null,
   "id": "f126c725",
   "metadata": {},
   "outputs": [],
   "source": [
    "# creating a function to run all the regressors\n",
    "\n",
    "def regressor(model, x, y):\n",
    "    x_train,x_test,y_train,y_test = train_test_split(x, y, test_size=0.2, random_state=125)\n",
    "    \n",
    "    # Training the model\n",
    "    model.fit(x_train, y_train)\n",
    "    \n",
    "    # Predicting y_test\n",
    "    pred = model.predict(x_test)\n",
    "    \n",
    "    # Root Mean Square Error (RMSE)\n",
    "    rmse = mean_squared_error(y_test, pred, squared=False)\n",
    "    print(\"Root Mean Square Error is:\", rmse)\n",
    "    \n",
    "    # R2 score\n",
    "    r2 = r2_score(y_test, pred, multioutput='variance_weighted')*100\n",
    "    print(\"R2 Score is:\", r2)\n",
    "    \n",
    "    # Cross Validation Score\n",
    "    cv_score = (cross_val_score(model, x, y, cv=5).mean())*100\n",
    "    print(\"Cross Validation Score is:\", cv_score)\n",
    "    \n",
    "    # Result of r2 score - cv score\n",
    "    result = r2 - cv_score\n",
    "    print(\"R2 Score - Cross Validation Score is\", result)"
   ]
  },
  {
   "cell_type": "markdown",
   "id": "0f1a48d6",
   "metadata": {},
   "source": [
    "### Linear Regression"
   ]
  },
  {
   "cell_type": "code",
   "execution_count": null,
   "id": "b405e977",
   "metadata": {},
   "outputs": [],
   "source": [
    "model=LinearRegression()\n",
    "regressor(model, x, y)"
   ]
  },
  {
   "cell_type": "markdown",
   "id": "28a6de18",
   "metadata": {},
   "source": [
    "### L1 -- Lasso Regression"
   ]
  },
  {
   "cell_type": "code",
   "execution_count": null,
   "id": "d4a1aa05",
   "metadata": {},
   "outputs": [],
   "source": [
    "model=Lasso(alpha=0.001)\n",
    "regressor(model, x, y)"
   ]
  },
  {
   "cell_type": "markdown",
   "id": "7909b057",
   "metadata": {},
   "source": [
    "### L2 -- Ridge Regression"
   ]
  },
  {
   "cell_type": "code",
   "execution_count": null,
   "id": "e40127d1",
   "metadata": {},
   "outputs": [],
   "source": [
    "model=Ridge(alpha=0.001)\n",
    "regressor(model, x, y)"
   ]
  },
  {
   "cell_type": "markdown",
   "id": "d6459aac",
   "metadata": {},
   "source": [
    "### Elastic Net"
   ]
  },
  {
   "cell_type": "code",
   "execution_count": null,
   "id": "38551a1e",
   "metadata": {},
   "outputs": [],
   "source": [
    "model=ElasticNet(alpha=0.001)\n",
    "regressor(model, x, y)"
   ]
  },
  {
   "cell_type": "markdown",
   "id": "bce382a2",
   "metadata": {},
   "source": [
    "### Support Vector Regression"
   ]
  },
  {
   "cell_type": "code",
   "execution_count": null,
   "id": "374a94a3",
   "metadata": {},
   "outputs": [],
   "source": [
    "model=SVR(kernel='rbf')\n",
    "regressor(model, x, y)"
   ]
  },
  {
   "cell_type": "code",
   "execution_count": null,
   "id": "dc14ceda",
   "metadata": {},
   "outputs": [],
   "source": [
    "model=SVR(kernel='poly')\n",
    "regressor(model, x, y)"
   ]
  },
  {
   "cell_type": "code",
   "execution_count": null,
   "id": "28f6e6fd",
   "metadata": {},
   "outputs": [],
   "source": [
    "model=SVR(kernel='linear')\n",
    "regressor(model, x, y)"
   ]
  },
  {
   "cell_type": "markdown",
   "id": "179fe240",
   "metadata": {},
   "source": [
    "### Decision Tree Regressor"
   ]
  },
  {
   "cell_type": "code",
   "execution_count": null,
   "id": "94d9ae6f",
   "metadata": {},
   "outputs": [],
   "source": [
    "model=DecisionTreeRegressor(random_state=125)\n",
    "regressor(model, x, y)"
   ]
  },
  {
   "cell_type": "code",
   "execution_count": null,
   "id": "7f2b5152",
   "metadata": {},
   "outputs": [],
   "source": [
    "model=DecisionTreeRegressor()\n",
    "regressor(model, x, y)"
   ]
  },
  {
   "cell_type": "markdown",
   "id": "425ccd38",
   "metadata": {},
   "source": [
    "### Random Forest Regressor"
   ]
  },
  {
   "cell_type": "code",
   "execution_count": null,
   "id": "27ac20a8",
   "metadata": {},
   "outputs": [],
   "source": [
    "model=RandomForestRegressor()\n",
    "regressor(model, x, y)"
   ]
  },
  {
   "cell_type": "code",
   "execution_count": null,
   "id": "6c8a1cae",
   "metadata": {},
   "outputs": [],
   "source": [
    "model=RandomForestRegressor(random_state=125)\n",
    "regressor(model, x, y)"
   ]
  },
  {
   "cell_type": "markdown",
   "id": "ec2fce3c",
   "metadata": {},
   "source": [
    "### K Neighbors Regressor"
   ]
  },
  {
   "cell_type": "code",
   "execution_count": null,
   "id": "ecff0ca6",
   "metadata": {},
   "outputs": [],
   "source": [
    "model=KNeighborsRegressor()\n",
    "regressor(model, x, y)"
   ]
  },
  {
   "cell_type": "markdown",
   "id": "65f4d799",
   "metadata": {},
   "source": [
    "### SGD Regressor"
   ]
  },
  {
   "cell_type": "code",
   "execution_count": null,
   "id": "9f175d94",
   "metadata": {},
   "outputs": [],
   "source": [
    "model=SGDRegressor()\n",
    "regressor(model, x, y)"
   ]
  },
  {
   "cell_type": "markdown",
   "id": "836388dc",
   "metadata": {},
   "source": [
    "### Gradient Boosting Regressor"
   ]
  },
  {
   "cell_type": "code",
   "execution_count": null,
   "id": "716b7c9a",
   "metadata": {},
   "outputs": [],
   "source": [
    "model=GradientBoostingRegressor()\n",
    "regressor(model, x, y)"
   ]
  },
  {
   "cell_type": "markdown",
   "id": "47b56403",
   "metadata": {},
   "source": [
    "### Ada Boost Regressor"
   ]
  },
  {
   "cell_type": "code",
   "execution_count": null,
   "id": "5f7c687d",
   "metadata": {},
   "outputs": [],
   "source": [
    "model=AdaBoostRegressor(random_state=125)\n",
    "regressor(model, x, y)"
   ]
  },
  {
   "cell_type": "code",
   "execution_count": null,
   "id": "90c5b394",
   "metadata": {},
   "outputs": [],
   "source": [
    "model=AdaBoostRegressor()\n",
    "regressor(model, x, y)"
   ]
  },
  {
   "cell_type": "markdown",
   "id": "dce31ab7",
   "metadata": {},
   "source": [
    "### Extra Trees Regressor"
   ]
  },
  {
   "cell_type": "code",
   "execution_count": null,
   "id": "64cfc9d9",
   "metadata": {},
   "outputs": [],
   "source": [
    "model=ExtraTreesRegressor(random_state=125)\n",
    "regressor(model, x, y)"
   ]
  },
  {
   "cell_type": "code",
   "execution_count": null,
   "id": "6fcc9cd6",
   "metadata": {},
   "outputs": [],
   "source": [
    "model=ExtraTreesRegressor()\n",
    "regressor(model, x, y)"
   ]
  },
  {
   "cell_type": "markdown",
   "id": "524dff45",
   "metadata": {},
   "source": [
    "Comparing all the above the Extra Trees Regressor gives the best results since the R2 Score - Cross Validation Score are closest along with higher Cross Validation Score and the highest R2 score comparing all the models."
   ]
  },
  {
   "cell_type": "markdown",
   "id": "ebdd97a1",
   "metadata": {},
   "source": [
    "# Hyper parameter tuning"
   ]
  },
  {
   "cell_type": "code",
   "execution_count": null,
   "id": "f13d0b63",
   "metadata": {},
   "outputs": [],
   "source": [
    "#ExtraTreesRegressor?"
   ]
  },
  {
   "cell_type": "code",
   "execution_count": null,
   "id": "32dc48d0",
   "metadata": {},
   "outputs": [],
   "source": [
    "ExtraTreesRegressor().get_params().keys()"
   ]
  },
  {
   "cell_type": "code",
   "execution_count": null,
   "id": "7d949867",
   "metadata": {},
   "outputs": [],
   "source": [
    "# creating parameters list to pass into GridSearchCV\n",
    "\n",
    "parameters = {'criterion' : ['squared_error', 'absolute_error'],\n",
    "              'max_features' : ['auto', 'sqrt', 'log2'],\n",
    "              'n_jobs' : [5, 10, 15]}"
   ]
  },
  {
   "cell_type": "code",
   "execution_count": null,
   "id": "214af8d3",
   "metadata": {},
   "outputs": [],
   "source": [
    "GCV = GridSearchCV(ExtraTreesRegressor(), parameters, cv=5)"
   ]
  },
  {
   "cell_type": "code",
   "execution_count": null,
   "id": "572a12aa",
   "metadata": {
    "scrolled": true
   },
   "outputs": [],
   "source": [
    "GCV.fit(x_train,y_train)"
   ]
  },
  {
   "cell_type": "code",
   "execution_count": null,
   "id": "bb3e71d6",
   "metadata": {},
   "outputs": [],
   "source": [
    "GCV.best_params_      # printing best parameters found by GridSearchCV"
   ]
  },
  {
   "cell_type": "markdown",
   "id": "264b3598",
   "metadata": {},
   "source": [
    "We got the best parameters using Gridsearch CV"
   ]
  },
  {
   "cell_type": "code",
   "execution_count": null,
   "id": "69808c55",
   "metadata": {},
   "outputs": [],
   "source": [
    "final_model = ExtraTreesRegressor(criterion = 'absolute_error', max_features = 'log2', n_jobs = 15)"
   ]
  },
  {
   "cell_type": "code",
   "execution_count": null,
   "id": "5623eb87",
   "metadata": {},
   "outputs": [],
   "source": [
    "final_fit = final_model.fit(x_train,y_train)   # final fit"
   ]
  },
  {
   "cell_type": "code",
   "execution_count": null,
   "id": "ee23d603",
   "metadata": {},
   "outputs": [],
   "source": [
    "final_pred = final_model.predict(x_test)   # predicting with best parameters"
   ]
  },
  {
   "cell_type": "code",
   "execution_count": null,
   "id": "165aa4bb",
   "metadata": {},
   "outputs": [],
   "source": [
    "best_r2=r2_score(y_test,final_pred,multioutput='variance_weighted')*100   # checking final r2_score\n",
    "print(\"R2 score for the Best Model is:\", best_r2)"
   ]
  },
  {
   "cell_type": "code",
   "execution_count": null,
   "id": "80732d57",
   "metadata": {},
   "outputs": [],
   "source": [
    "final_cv_score = (cross_val_score(final_model, x, y, cv=5).mean())*100\n",
    "print(\"Cross Validation Score is:\", final_cv_score)"
   ]
  },
  {
   "cell_type": "code",
   "execution_count": null,
   "id": "98eb20c6",
   "metadata": {},
   "outputs": [],
   "source": [
    "final_rmse = mean_squared_error(y_test, final_pred, squared=False)\n",
    "print(\"Root Mean Square Error is:\", final_rmse)"
   ]
  },
  {
   "cell_type": "markdown",
   "id": "2f4ca9cb",
   "metadata": {},
   "source": [
    "We used Hyper Parameter Tuning on the final model to obtained the best r2_score and CV score."
   ]
  },
  {
   "cell_type": "code",
   "execution_count": null,
   "id": "844a1e62",
   "metadata": {},
   "outputs": [],
   "source": [
    "plt.figure(figsize=(8,6))\n",
    "plt.scatter(x=y_test, y=final_pred, color='r')\n",
    "plt1 = max(max(final_pred), max(y_test))\n",
    "plt2 = min(min(final_pred), min(y_test))\n",
    "plt.plot([plt1, plt2], [plt1, plt2], 'b-')\n",
    "plt.xlabel('Actual Capacity_mw', fontsize=14)\n",
    "plt.ylabel('Predicted Capacity_mw', fontsize=14)\n",
    "plt.title('ExtraTreesRegressor',fontsize=18)\n",
    "plt.show()"
   ]
  },
  {
   "cell_type": "markdown",
   "id": "2ce972b8",
   "metadata": {},
   "source": [
    "Plotting the Final model Actual Capacity_mw vs Predicted Capacity_mw"
   ]
  },
  {
   "cell_type": "markdown",
   "id": "d96bc4f6",
   "metadata": {},
   "source": [
    "Hence after Hyper Parameter Tuning on the final model to obtained the best r2_score 89.249% and CV score 79.4% and lowest Root Mean Square Error is: 127.93."
   ]
  },
  {
   "cell_type": "markdown",
   "id": "09740336",
   "metadata": {},
   "source": [
    "## Saving the model in pickle Format"
   ]
  },
  {
   "cell_type": "code",
   "execution_count": null,
   "id": "1319eabf",
   "metadata": {},
   "outputs": [],
   "source": [
    "# pickeling or serialization of a file\n",
    "import pickle\n",
    "filename = 'Global_Power_Plant_Capacity_mw_Regression_final_model.pkl'\n",
    "pickle.dump(final_model, open(filename, 'wb'))"
   ]
  },
  {
   "cell_type": "markdown",
   "id": "a18dab66",
   "metadata": {},
   "source": [
    "Saving the best regression model using pickle"
   ]
  },
  {
   "cell_type": "markdown",
   "id": "15b608d6",
   "metadata": {},
   "source": [
    "## Prediction Conclusion:"
   ]
  },
  {
   "cell_type": "code",
   "execution_count": null,
   "id": "02dc97ba",
   "metadata": {},
   "outputs": [],
   "source": [
    "import numpy as np\n",
    "a=np.array(y_test)\n",
    "predicted=np.array(final_model.predict(x_test))\n",
    "df_comparison = pd.DataFrame({\"original\":a,\"predicted\":predicted},index= range(len(a)))\n",
    "df_comparison"
   ]
  },
  {
   "cell_type": "markdown",
   "id": "82ef0109",
   "metadata": {},
   "source": [
    "Hence predicted the Capacity_mw using the x_test feature columns."
   ]
  },
  {
   "cell_type": "code",
   "execution_count": null,
   "id": "949874f8",
   "metadata": {},
   "outputs": [],
   "source": [
    "df_comparison.to_csv('Global_Power_Plant_Capacity_mw_Regression_Prediction.csv')"
   ]
  },
  {
   "cell_type": "markdown",
   "id": "0038f7e7",
   "metadata": {},
   "source": [
    "Saving the predicted values in a csv file"
   ]
  },
  {
   "cell_type": "markdown",
   "id": "fe089f17",
   "metadata": {},
   "source": [
    "# 2. Predicting \"Fuel_Type\" Target"
   ]
  },
  {
   "cell_type": "markdown",
   "id": "b6cd9dfb",
   "metadata": {},
   "source": [
    "## Seperating the Dataset into Features and Label(Fuel_Type)"
   ]
  },
  {
   "cell_type": "code",
   "execution_count": null,
   "id": "35b2e584",
   "metadata": {},
   "outputs": [],
   "source": [
    "x_df = new_df.drop(\"Fuel_Type\", axis=1)\n",
    "y_df = new_df[\"Fuel_Type\"]"
   ]
  },
  {
   "cell_type": "code",
   "execution_count": null,
   "id": "c2e3ae8b",
   "metadata": {},
   "outputs": [],
   "source": [
    "x_df.shape"
   ]
  },
  {
   "cell_type": "code",
   "execution_count": null,
   "id": "dbaef8b8",
   "metadata": {},
   "outputs": [],
   "source": [
    "y_df.shape"
   ]
  },
  {
   "cell_type": "markdown",
   "id": "b3f7a6e9",
   "metadata": {},
   "source": [
    "## Checking the Skewness of x_df"
   ]
  },
  {
   "cell_type": "code",
   "execution_count": null,
   "id": "bde8e825",
   "metadata": {},
   "outputs": [],
   "source": [
    "x_df.skew().sort_values()"
   ]
  },
  {
   "cell_type": "markdown",
   "id": "f2a00c12",
   "metadata": {},
   "source": [
    "We can see that there are skewness in most of the columns"
   ]
  },
  {
   "cell_type": "markdown",
   "id": "d9dba9d3",
   "metadata": {},
   "source": [
    "## Removing the skewness"
   ]
  },
  {
   "cell_type": "code",
   "execution_count": null,
   "id": "bf4b9441",
   "metadata": {},
   "outputs": [],
   "source": [
    "skew = ['capacity_mw','longitude','generation_gwh_2014','generation_gwh_2015','generation_gwh_2016','generation_gwh_2017','generation_gwh_2018','Power_plant_age']\n",
    "\n",
    "from sklearn.preprocessing import PowerTransformer\n",
    "transfo = PowerTransformer(method='yeo-johnson')"
   ]
  },
  {
   "cell_type": "markdown",
   "id": "0fb5c330",
   "metadata": {},
   "source": [
    "transforming all the numerical columns apart from categorically encoded columns"
   ]
  },
  {
   "cell_type": "code",
   "execution_count": null,
   "id": "12ef68a3",
   "metadata": {},
   "outputs": [],
   "source": [
    "x_df[skew] = transfo.fit_transform(x_df[skew].values)\n",
    "x_df[skew].head()"
   ]
  },
  {
   "cell_type": "code",
   "execution_count": null,
   "id": "d3b239cb",
   "metadata": {},
   "outputs": [],
   "source": [
    "x_df.skew().sort_values()"
   ]
  },
  {
   "cell_type": "code",
   "execution_count": null,
   "id": "55e55947",
   "metadata": {},
   "outputs": [],
   "source": [
    "#Lets visualize the data\n",
    "\n",
    "plt.figure(figsize=(20,25), facecolor='white')\n",
    "plotnumber = 1\n",
    "\n",
    "for column in x_df[skew]:\n",
    "    if plotnumber<=9:\n",
    "        ax = plt.subplot(3,3,plotnumber)\n",
    "        sns.distplot(x_df[column],color='b',kde_kws={\"shade\": True},hist=False)\n",
    "        plt.xlabel(column,fontsize=20)\n",
    "    plotnumber+=1\n",
    "plt.show()"
   ]
  },
  {
   "cell_type": "markdown",
   "id": "747173a3",
   "metadata": {},
   "source": [
    "The dataset looks normally distributed now"
   ]
  },
  {
   "cell_type": "markdown",
   "id": "1d81e264",
   "metadata": {},
   "source": [
    "## Feature Scaling"
   ]
  },
  {
   "cell_type": "code",
   "execution_count": null,
   "id": "057c354a",
   "metadata": {},
   "outputs": [],
   "source": [
    "scaler=StandardScaler()\n",
    "x_df=pd.DataFrame(scaler.fit_transform(x_df),columns=x_df.columns)\n",
    "x_df"
   ]
  },
  {
   "cell_type": "markdown",
   "id": "5b59196d",
   "metadata": {},
   "source": [
    "We have scaled the dataset."
   ]
  },
  {
   "cell_type": "markdown",
   "id": "be4e1429",
   "metadata": {},
   "source": [
    "## Checking Multicolinearity"
   ]
  },
  {
   "cell_type": "code",
   "execution_count": null,
   "id": "7c3a7163",
   "metadata": {},
   "outputs": [],
   "source": [
    "vif = pd.DataFrame()\n",
    "vif[\"VIF values\"] = [variance_inflation_factor(x_df.values,i)\n",
    "              for i in range(len(x_df.columns))]\n",
    "vif[\"Features\"] = x_df.columns\n",
    "\n",
    "# Let's check the values\n",
    "vif"
   ]
  },
  {
   "cell_type": "markdown",
   "id": "2f666067",
   "metadata": {},
   "source": [
    "All the columns has vif values less then 10, hence there is no multicolinearity that exist."
   ]
  },
  {
   "cell_type": "code",
   "execution_count": null,
   "id": "97c3f6eb",
   "metadata": {},
   "outputs": [],
   "source": [
    "y_df.value_counts()"
   ]
  },
  {
   "cell_type": "markdown",
   "id": "ab6860a0",
   "metadata": {},
   "source": [
    "We can see that the target Fuel_Type has multiple classes in the mode of energy source, hence we can see that this is a multi classification problem. As the data between the classes are not balanced with 1 having 238 counts and 4 having only 9 counts, we have to do SMOTE oversampling of the data."
   ]
  },
  {
   "cell_type": "markdown",
   "id": "9d0e9c76",
   "metadata": {},
   "source": [
    "## SMOTE OverSampling"
   ]
  },
  {
   "cell_type": "code",
   "execution_count": null,
   "id": "1b01679b",
   "metadata": {},
   "outputs": [],
   "source": [
    "from imblearn.over_sampling import SMOTE\n",
    "sm = SMOTE()\n",
    "x_df, y_df = sm.fit_resample(x_df,y_df)"
   ]
  },
  {
   "cell_type": "code",
   "execution_count": null,
   "id": "37403e6d",
   "metadata": {},
   "outputs": [],
   "source": [
    "y_df.value_counts()"
   ]
  },
  {
   "cell_type": "markdown",
   "id": "c5da2e1c",
   "metadata": {},
   "source": [
    "Here we can see that the data imbalance has been removed."
   ]
  },
  {
   "cell_type": "code",
   "execution_count": null,
   "id": "700b57b1",
   "metadata": {},
   "outputs": [],
   "source": [
    "X = x_df   # renaming the features variable"
   ]
  },
  {
   "cell_type": "code",
   "execution_count": null,
   "id": "e843bb2e",
   "metadata": {},
   "outputs": [],
   "source": [
    "X"
   ]
  },
  {
   "cell_type": "code",
   "execution_count": null,
   "id": "3165b9f1",
   "metadata": {},
   "outputs": [],
   "source": [
    "Y = y_df   # renaming the target variable"
   ]
  },
  {
   "cell_type": "code",
   "execution_count": null,
   "id": "f2b7f002",
   "metadata": {},
   "outputs": [],
   "source": [
    "Y"
   ]
  },
  {
   "cell_type": "code",
   "execution_count": null,
   "id": "fe72f5ff",
   "metadata": {},
   "outputs": [],
   "source": [
    "from sklearn.ensemble import RandomForestClassifier\n",
    "from sklearn.metrics import accuracy_score\n",
    "from sklearn.metrics import confusion_matrix,classification_report"
   ]
  },
  {
   "cell_type": "markdown",
   "id": "a5d7cc1b",
   "metadata": {},
   "source": [
    "## Getting the best random state"
   ]
  },
  {
   "cell_type": "code",
   "execution_count": null,
   "id": "3d8e48fa",
   "metadata": {},
   "outputs": [],
   "source": [
    "maxAccu=0\n",
    "maxRS=0\n",
    "\n",
    "for i in range(1,200):\n",
    "    x_train,x_test, y_train, y_test=train_test_split(X,Y,test_size=.20, random_state=i)\n",
    "    rfc=RandomForestClassifier()\n",
    "    rfc.fit(x_train,y_train)\n",
    "    pred=rfc.predict(x_test)\n",
    "    acc=accuracy_score(y_test,pred)\n",
    "    if acc>maxAccu:\n",
    "        maxAccu=acc\n",
    "        maxRS=i\n",
    "print(\"Best accuracy is \",maxAccu,\" on Random_state \",maxRS) "
   ]
  },
  {
   "cell_type": "markdown",
   "id": "9aad6f7c",
   "metadata": {},
   "source": [
    "Hence we get best accuracy score as 0.952 at Random_state  142 in RandomForestClassifier"
   ]
  },
  {
   "cell_type": "markdown",
   "id": "2a05f1c6",
   "metadata": {},
   "source": [
    "## train_test_split"
   ]
  },
  {
   "cell_type": "code",
   "execution_count": null,
   "id": "d934793b",
   "metadata": {},
   "outputs": [],
   "source": [
    "x_train,x_test, y_train, y_test=train_test_split(X,Y,test_size=.20, random_state=142)"
   ]
  },
  {
   "cell_type": "code",
   "execution_count": null,
   "id": "9a83d7a0",
   "metadata": {},
   "outputs": [],
   "source": [
    "# Importing required libraries\n",
    "from sklearn.linear_model import LogisticRegression\n",
    "from sklearn.naive_bayes import GaussianNB\n",
    "from sklearn.svm import SVC\n",
    "from sklearn.tree import DecisionTreeClassifier\n",
    "from sklearn.neighbors import KNeighborsClassifier\n",
    "from sklearn.linear_model import SGDClassifier\n",
    "from sklearn.ensemble import RandomForestClassifier\n",
    "from sklearn.ensemble import ExtraTreesClassifier\n",
    "from sklearn.ensemble import AdaBoostClassifier\n",
    "from sklearn.ensemble import GradientBoostingClassifier\n",
    "\n",
    "from sklearn.model_selection import cross_val_score\n",
    "from sklearn.model_selection import GridSearchCV"
   ]
  },
  {
   "cell_type": "code",
   "execution_count": null,
   "id": "6e594582",
   "metadata": {},
   "outputs": [],
   "source": [
    "# creating a function to run all the classifiers\n",
    "\n",
    "def classifier(model, X, Y):\n",
    "    x_train,x_test,y_train,y_test = train_test_split(X, Y, test_size=0.2, random_state=142) \n",
    "    \n",
    "    # Training the model\n",
    "    model.fit(x_train, y_train)\n",
    "    \n",
    "    # Predicting y_test\n",
    "    pred = model.predict(x_test)\n",
    "    \n",
    "    # Accuracy Score\n",
    "    acc_score = (accuracy_score(y_test, pred))*100\n",
    "    print(\"Accuracy Score:\", acc_score)\n",
    "    \n",
    "    # Classification Report\n",
    "    class_report = classification_report(y_test, pred)\n",
    "    print(\"\\nClassification Report:\\n\", class_report)\n",
    "    \n",
    "    # Cross Validation Score\n",
    "    cv_score = (cross_val_score(model, X, Y, cv=5).mean())*100\n",
    "    print(\"Cross Validation Score:\", cv_score)\n",
    "    \n",
    "    # Result of accuracy minus cv scores\n",
    "    result = acc_score - cv_score\n",
    "    print(\"\\nAccuracy Score - Cross Validation Score is\", result)"
   ]
  },
  {
   "cell_type": "markdown",
   "id": "479f9791",
   "metadata": {},
   "source": [
    "### Logistic Regression"
   ]
  },
  {
   "cell_type": "code",
   "execution_count": null,
   "id": "04495b25",
   "metadata": {},
   "outputs": [],
   "source": [
    "model = LogisticRegression()\n",
    "classifier(model, X, Y)"
   ]
  },
  {
   "cell_type": "markdown",
   "id": "b2ca535d",
   "metadata": {},
   "source": [
    "### Naive Bayes"
   ]
  },
  {
   "cell_type": "code",
   "execution_count": null,
   "id": "e5aa0381",
   "metadata": {},
   "outputs": [],
   "source": [
    "model = GaussianNB()\n",
    "classifier(model, X, Y)"
   ]
  },
  {
   "cell_type": "markdown",
   "id": "28f81f87",
   "metadata": {},
   "source": [
    "### SVC Classifier"
   ]
  },
  {
   "cell_type": "code",
   "execution_count": null,
   "id": "507cce1f",
   "metadata": {},
   "outputs": [],
   "source": [
    "model = SVC(kernel='rbf')\n",
    "classifier(model, X, Y)"
   ]
  },
  {
   "cell_type": "code",
   "execution_count": null,
   "id": "91e3a169",
   "metadata": {},
   "outputs": [],
   "source": [
    "model = SVC(kernel='linear')\n",
    "classifier(model, X, Y)"
   ]
  },
  {
   "cell_type": "code",
   "execution_count": null,
   "id": "3de03255",
   "metadata": {},
   "outputs": [],
   "source": [
    "model = SVC(kernel='poly')\n",
    "classifier(model, X, Y)"
   ]
  },
  {
   "cell_type": "markdown",
   "id": "2b9490b1",
   "metadata": {},
   "source": [
    "### Decision Tree Classifier"
   ]
  },
  {
   "cell_type": "code",
   "execution_count": null,
   "id": "a8c57a19",
   "metadata": {},
   "outputs": [],
   "source": [
    "model = DecisionTreeClassifier()\n",
    "classifier(model, X, Y)"
   ]
  },
  {
   "cell_type": "markdown",
   "id": "df0ed83b",
   "metadata": {},
   "source": [
    "### KNeighbors Classifier"
   ]
  },
  {
   "cell_type": "code",
   "execution_count": null,
   "id": "c8b538a9",
   "metadata": {},
   "outputs": [],
   "source": [
    "model = KNeighborsClassifier()\n",
    "classifier(model, X, Y)"
   ]
  },
  {
   "cell_type": "markdown",
   "id": "36d92b68",
   "metadata": {},
   "source": [
    "### SGD Classifier"
   ]
  },
  {
   "cell_type": "code",
   "execution_count": null,
   "id": "cb2c6a5f",
   "metadata": {},
   "outputs": [],
   "source": [
    "model = SGDClassifier()\n",
    "classifier(model, X, Y)"
   ]
  },
  {
   "cell_type": "markdown",
   "id": "89010e31",
   "metadata": {},
   "source": [
    "### Random Forest Classifier"
   ]
  },
  {
   "cell_type": "code",
   "execution_count": null,
   "id": "a86bc169",
   "metadata": {},
   "outputs": [],
   "source": [
    "model = RandomForestClassifier(random_state=142)\n",
    "classifier(model, X, Y)"
   ]
  },
  {
   "cell_type": "code",
   "execution_count": null,
   "id": "d4881667",
   "metadata": {},
   "outputs": [],
   "source": [
    "model = RandomForestClassifier()\n",
    "classifier(model, X, Y)"
   ]
  },
  {
   "cell_type": "markdown",
   "id": "83712ba1",
   "metadata": {},
   "source": [
    "### ExtraTrees Classifier"
   ]
  },
  {
   "cell_type": "code",
   "execution_count": null,
   "id": "da374d1c",
   "metadata": {},
   "outputs": [],
   "source": [
    "model = ExtraTreesClassifier()\n",
    "classifier(model, X, Y)"
   ]
  },
  {
   "cell_type": "markdown",
   "id": "fe49c76a",
   "metadata": {},
   "source": [
    "### AdaBoost Classifier"
   ]
  },
  {
   "cell_type": "code",
   "execution_count": null,
   "id": "c4954c01",
   "metadata": {},
   "outputs": [],
   "source": [
    "model = AdaBoostClassifier()\n",
    "classifier(model, X, Y)"
   ]
  },
  {
   "cell_type": "markdown",
   "id": "0a12ee52",
   "metadata": {},
   "source": [
    "### Gradient Boosting Classifier"
   ]
  },
  {
   "cell_type": "code",
   "execution_count": null,
   "id": "72f3a168",
   "metadata": {},
   "outputs": [],
   "source": [
    "model = GradientBoostingClassifier()\n",
    "classifier(model, X, Y)"
   ]
  },
  {
   "cell_type": "markdown",
   "id": "ac57c70d",
   "metadata": {},
   "source": [
    "Comparing all the above the ExtraTreesClassifier gives the best results since the Accuracy Score - Cross Validation Score is the least along with higher Cross Validation Score and the highest Accuracy Score comparing all the models."
   ]
  },
  {
   "cell_type": "markdown",
   "id": "09d84cd7",
   "metadata": {},
   "source": [
    "# Hyper Parameter Tuning"
   ]
  },
  {
   "cell_type": "code",
   "execution_count": null,
   "id": "0071ff6c",
   "metadata": {},
   "outputs": [],
   "source": [
    "x_train,x_test,y_train,y_test = train_test_split(X,Y,test_size=.20,random_state=142)"
   ]
  },
  {
   "cell_type": "code",
   "execution_count": null,
   "id": "fb152aac",
   "metadata": {},
   "outputs": [],
   "source": [
    "#ExtraTreesClassifier?"
   ]
  },
  {
   "cell_type": "code",
   "execution_count": null,
   "id": "417b7ffd",
   "metadata": {},
   "outputs": [],
   "source": [
    "# creating parameters list to pass into GridSearchCV\n",
    "\n",
    "parameters = {'criterion' : ['gini', 'entropy'],\n",
    "              'max_features' : ['auto', 'sqrt', 'log2'],\n",
    "              'n_jobs' : [5, 10, 15]}"
   ]
  },
  {
   "cell_type": "code",
   "execution_count": null,
   "id": "928fc44b",
   "metadata": {},
   "outputs": [],
   "source": [
    "GCV = GridSearchCV(ExtraTreesClassifier(), parameters, cv=5)"
   ]
  },
  {
   "cell_type": "code",
   "execution_count": null,
   "id": "2e9b9c6e",
   "metadata": {},
   "outputs": [],
   "source": [
    "GCV.fit(x_train,y_train)"
   ]
  },
  {
   "cell_type": "code",
   "execution_count": null,
   "id": "09e72fe9",
   "metadata": {},
   "outputs": [],
   "source": [
    "GCV.best_params_      # printing best parameters found by GridSearchCV"
   ]
  },
  {
   "cell_type": "markdown",
   "id": "ac9294be",
   "metadata": {},
   "source": [
    "We got the best parameters using Gridsearch CV"
   ]
  },
  {
   "cell_type": "code",
   "execution_count": null,
   "id": "4e9b0395",
   "metadata": {},
   "outputs": [],
   "source": [
    "final_modelc = ExtraTreesClassifier(criterion = 'gini', max_features = 'log2', n_jobs = 5)   # final model with best parameters"
   ]
  },
  {
   "cell_type": "code",
   "execution_count": null,
   "id": "474aa3ee",
   "metadata": {},
   "outputs": [],
   "source": [
    "final_fitc = final_modelc.fit(x_train,y_train)   # final fit"
   ]
  },
  {
   "cell_type": "code",
   "execution_count": null,
   "id": "f24e1a92",
   "metadata": {},
   "outputs": [],
   "source": [
    "final_predc = final_modelc.predict(x_test)   # predicting with best parameters"
   ]
  },
  {
   "cell_type": "code",
   "execution_count": null,
   "id": "0336e787",
   "metadata": {},
   "outputs": [],
   "source": [
    "best_acc_score = (accuracy_score(y_test, final_predc))*100    # checking accuracy score\n",
    "print(\"The Accuracy Score for the Best Model is \", best_acc_score)"
   ]
  },
  {
   "cell_type": "markdown",
   "id": "01b33be2",
   "metadata": {},
   "source": [
    "We successfully performed the Hyper Parameter Tuning on the Final Model."
   ]
  },
  {
   "cell_type": "code",
   "execution_count": null,
   "id": "49593d28",
   "metadata": {},
   "outputs": [],
   "source": [
    "# Final Cross Validation Score\n",
    "final_cv_score = (cross_val_score(final_modelc, X, Y, cv=5).mean())*100\n",
    "print(\"Cross Validation Score:\", final_cv_score)"
   ]
  },
  {
   "cell_type": "markdown",
   "id": "b9dd7b99",
   "metadata": {},
   "source": [
    "We got final accuracy score of 94.488% and Cross Validation Score of 92.12% which is good"
   ]
  },
  {
   "cell_type": "code",
   "execution_count": null,
   "id": "3318f598",
   "metadata": {},
   "outputs": [],
   "source": [
    "x_test.shape"
   ]
  },
  {
   "cell_type": "code",
   "execution_count": null,
   "id": "82647003",
   "metadata": {},
   "outputs": [],
   "source": [
    "y_test.shape"
   ]
  },
  {
   "cell_type": "code",
   "execution_count": null,
   "id": "4993c2eb",
   "metadata": {},
   "outputs": [],
   "source": [
    "x_train.shape"
   ]
  },
  {
   "cell_type": "code",
   "execution_count": null,
   "id": "9491c5a9",
   "metadata": {},
   "outputs": [],
   "source": [
    "y_train.shape"
   ]
  },
  {
   "cell_type": "code",
   "execution_count": null,
   "id": "3a88db65",
   "metadata": {},
   "outputs": [],
   "source": [
    "# Final Classification Report\n",
    "final_class_report = classification_report(y_test, final_predc)\n",
    "print(\"\\nClassification Report:\\n\", final_class_report)"
   ]
  },
  {
   "cell_type": "code",
   "execution_count": null,
   "id": "0c8bd924",
   "metadata": {},
   "outputs": [],
   "source": [
    "from sklearn.preprocessing import label_binarize\n",
    "from sklearn.metrics import roc_curve, auc\n",
    "from sklearn.multiclass import OneVsRestClassifier"
   ]
  },
  {
   "cell_type": "code",
   "execution_count": null,
   "id": "6553cdda",
   "metadata": {},
   "outputs": [],
   "source": [
    "classifier = OneVsRestClassifier(final_modelc)\n",
    "y_score = classifier.fit(x_train, y_train).predict_proba(x_test)\n",
    "\n",
    "#Binarize the output\n",
    "y_test_bin  = label_binarize(y_test, classes=[0,1,2,3,4,5,6,7])\n",
    "n_classes = 8\n",
    "\n",
    "# Compute ROC curve and AUC for all the classes\n",
    "false_positive_rate = dict()\n",
    "true_positive_rate = dict()\n",
    "roc_auc = dict()\n",
    "for i in range(n_classes):\n",
    "    false_positive_rate[i], true_positive_rate[i], _ = roc_curve(y_test_bin[:, i], y_score[:, i])\n",
    "    roc_auc[i] = auc(false_positive_rate[i], true_positive_rate[i])\n",
    "    \n",
    "   \n",
    "for i in range(n_classes):\n",
    "    plt.plot(false_positive_rate[i], true_positive_rate[i], lw=2,\n",
    "             label='ROC curve of class {0} (area = {1:0.2f})'\n",
    "             ''.format(i, roc_auc[i]))\n",
    "\n",
    "plt.plot([0, 1], [0, 1], 'k--', lw=2)\n",
    "plt.xlim([-0.05, 1.0])\n",
    "plt.ylim([0.0, 1.05])\n",
    "plt.xlabel('False Positive Rate')\n",
    "plt.ylabel('True Positive Rate')\n",
    "plt.title('Receiver operating characteristic for multiclassification data')\n",
    "plt.legend(loc=\"lower right\")\n",
    "plt.show()"
   ]
  },
  {
   "cell_type": "markdown",
   "id": "2c157aa5",
   "metadata": {},
   "source": [
    "Hence we got AUC ROC curve for all 8 classes which is either 0.98 or 1 which is good"
   ]
  },
  {
   "cell_type": "markdown",
   "id": "0a867424",
   "metadata": {},
   "source": [
    "# Saving the model in pickle Format"
   ]
  },
  {
   "cell_type": "code",
   "execution_count": null,
   "id": "d1d8fd29",
   "metadata": {},
   "outputs": [],
   "source": [
    "# pickeling or serialization of a file\n",
    "import pickle\n",
    "filenamec = 'Global_Power_Plant_Fuel_Type_Classification_final_model.pkl'\n",
    "pickle.dump(final_modelc, open(filenamec, 'wb'))"
   ]
  },
  {
   "cell_type": "markdown",
   "id": "a77526d8",
   "metadata": {},
   "source": [
    "# Prediction Conclusion:"
   ]
  },
  {
   "cell_type": "code",
   "execution_count": null,
   "id": "e84d232e",
   "metadata": {},
   "outputs": [],
   "source": [
    "import numpy as np\n",
    "ac=np.array(y_test)\n",
    "predictedc=np.array(final_modelc.predict(x_test))\n",
    "df_comparisonc = pd.DataFrame({\"original\":ac,\"predicted\":predictedc},index= range(len(ac)))\n",
    "df_comparisonc"
   ]
  },
  {
   "cell_type": "markdown",
   "id": "11a9fac7",
   "metadata": {},
   "source": [
    "Hence predicted the 'Fuel_Type' using the x_test feature columns."
   ]
  },
  {
   "cell_type": "code",
   "execution_count": null,
   "id": "3eb1a520",
   "metadata": {},
   "outputs": [],
   "source": [
    "df_comparisonc.to_csv('Global_Power_Plant_Fuel_Type_Classification_Prediction.csv')"
   ]
  },
  {
   "cell_type": "markdown",
   "id": "e8cdf376",
   "metadata": {},
   "source": [
    "Saving the predicted values in a csv file"
   ]
  }
 ],
 "metadata": {
  "kernelspec": {
   "display_name": "Python 3 (ipykernel)",
   "language": "python",
   "name": "python3"
  },
  "language_info": {
   "codemirror_mode": {
    "name": "ipython",
    "version": 3
   },
   "file_extension": ".py",
   "mimetype": "text/x-python",
   "name": "python",
   "nbconvert_exporter": "python",
   "pygments_lexer": "ipython3",
   "version": "3.9.7"
  }
 },
 "nbformat": 4,
 "nbformat_minor": 5
}
